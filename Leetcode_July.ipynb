{
 "cells": [
  {
   "cell_type": "markdown",
   "metadata": {},
   "source": [
    "# DAY 1\n"
   ]
  },
  {
   "cell_type": "markdown",
   "metadata": {},
   "source": [
    "# A good example of binary tree problem"
   ]
  },
  {
   "cell_type": "markdown",
   "metadata": {},
   "source": [
    "Ex1: You have a total of n coins that you want to form in a staircase shape, where every k-th row must have exactly k coins.\n",
    "\n",
    "Given n, find the total number of full staircase rows that can be formed.\n",
    "\n",
    "n is a non-negative integer and fits within the range of a 32-bit signed integer."
   ]
  },
  {
   "cell_type": "code",
   "execution_count": null,
   "metadata": {},
   "outputs": [],
   "source": [
    "#solution ex1: ====> This approach gives the correct answer but IT is absolute NOT efficient one.\n",
    "n = 100\n",
    "i = 0\n",
    "z = n #so dư\n",
    "\n",
    "while z > i:\n",
    "    z = z -i\n",
    "    if z < i+1:\n",
    "        i = i\n",
    "    else:\n",
    "        i = i+1\n",
    "\n",
    "print(i,\"number of completed staircases\")\n",
    "\n"
   ]
  },
  {
   "cell_type": "markdown",
   "metadata": {},
   "source": [
    "# DAY 2 "
   ]
  },
  {
   "cell_type": "markdown",
   "metadata": {},
   "source": [
    "# Given a binary tree, return the bottom-up level order traversal of its nodes' values. (ie, from left to right, level by level from leaf to root).\n",
    "\n",
    "For example:\n",
    "Given binary tree [3,9,20,null,null,15,7],\n",
    "return its bottom-up level order traversal as:\n",
    "[\n",
    "  [15,7],\n",
    "  [9,20],\n",
    "  [3]\n",
    "]"
   ]
  },
  {
   "cell_type": "code",
   "execution_count": null,
   "metadata": {},
   "outputs": [],
   "source": [
    "#Define class Queue:\n",
    "class Queue(object):\n",
    "    def __init__(self):\n",
    "        self.items = []\n",
    "\n",
    "    def enqueue(self, item):\n",
    "        self.items.insert(0, item)\n",
    "\n",
    "    def dequeue(self):\n",
    "        if not self.is_empty():\n",
    "            return self.items.pop()\n",
    "\n",
    "    def is_empty(self):\n",
    "        return len(self.items) == 0\n",
    "\n",
    "    def peek(self):\n",
    "        if not self.is_empty():\n",
    "            return self.items[-1].value\n",
    "\n",
    "    def __len__(self):\n",
    "        return self.size()\n",
    "\n",
    "    def size(self):\n",
    "        return len(self.items)\n",
    "# Definition for a binary tree node.\n",
    "class TreeNode:\n",
    "    def __init__(self, val=0, left=None, right=None):\n",
    "        self.val = val #val means value\n",
    "        self.left = left\n",
    "        self.right = right"
   ]
  },
  {
   "cell_type": "code",
   "execution_count": null,
   "metadata": {},
   "outputs": [],
   "source": [
    "\n",
    "# an example of creating treenode:        \n",
    "node_5 = TreeNode(50, None, None)\n",
    "node_4 = TreeNode(None, None, None)\n",
    "node_3 = TreeNode(30, node_4, node_5)\n",
    "node_2 = TreeNode(20, None, None)\n",
    "node_1 = TreeNode(10, node_2, node_3)\n",
    "print(f\"node1 {node_1.val}\")\n",
    "print(f\"node2 {node_2.val}\")\n",
    "print(f\"node3 {node_3.val}\")\n",
    "print(f\"node4 {node_3.left.val}\")\n",
    "print(f\"node5 {node_3.right.val}\")"
   ]
  },
  {
   "cell_type": "code",
   "execution_count": null,
   "metadata": {},
   "outputs": [],
   "source": [
    "import collections \n",
    "\n",
    "class Solutionex2:\n",
    "    def levelOrderBottom(self, root: TreeNode):\n",
    "        list_tree = []\n",
    "        if root is None:\n",
    "            return list_tree\n",
    "        if root is not None:\n",
    "            q = Queue()\n",
    "            q.enqueue((root,0))\n",
    "            max_high = 0\n",
    "            t = ()\n",
    "            l = []\n",
    "            while len(q)>0:\n",
    "                t = q.dequeue()\n",
    "                if t[0] is not None:\n",
    "                    l.append((t[0].val, t[1]))\n",
    "                    q.enqueue((t[0].left, t[1]+1))\n",
    "                    q.enqueue((t[0].right, t[1]+1))\n",
    "                max_high = max(max_high , t[1])  \n",
    "        \n",
    "        answer = collections.deque([])  \n",
    "        i = 0\n",
    "        while i < max_high:\n",
    "            list_ith = []\n",
    "            for item in l:\n",
    "                if item[1] == i:\n",
    "                    list_ith.append(item[0])\n",
    "            i = i+1\n",
    "            answer.appendleft(list_ith)\n",
    "        return list(answer)\n",
    "        "
   ]
  },
  {
   "cell_type": "code",
   "execution_count": null,
   "metadata": {},
   "outputs": [],
   "source": [
    "node_5 = TreeNode(50, None, None)\n",
    "node_4 = TreeNode(40, node_5, None)\n",
    "node_3 = TreeNode(30, node_4, None)\n",
    "node_2 = TreeNode(20, node_3, None)\n",
    "node_1 = TreeNode(10, node_2, None)\n",
    "\n",
    "s = Solutionex2()\n",
    "print(\"example with treenode above\", s.levelOrderBottom(node_1))\n",
    "    "
   ]
  },
  {
   "cell_type": "markdown",
   "metadata": {},
   "source": [
    "# Day 3:  ugly number:"
   ]
  },
  {
   "cell_type": "markdown",
   "metadata": {},
   "source": [
    "There are different types of questions involved with ugly number:\n",
    "1) Check if a number is an ugly number.\n",
    "2) Find the n-th ugly number.\n",
    "Checking using the following function:\n",
    "def isUgly(num):\n",
    "        \"\"\"\n",
    "        :type num: int\n",
    "        :rtype: bool\n",
    "        \"\"\"\n",
    "        if num==0:\n",
    "            return False\n",
    "        factor =[2,3,5]\n",
    "        for f in factor:\n",
    "            while num%f==0: #keep divide [2,3,5], if the remainder is==0\n",
    "                num = num /f      \n",
    "        return num==1 "
   ]
  },
  {
   "cell_type": "code",
   "execution_count": null,
   "metadata": {},
   "outputs": [],
   "source": [
    "def isUgly(num):\n",
    "        \"\"\"\n",
    "        :type num: int\n",
    "        :rtype: bool\n",
    "        \"\"\"\n",
    "        if num==0:\n",
    "            return False\n",
    "        factor =[2,3,5]\n",
    "        for f in factor:\n",
    "            while num%f==0: #keep divide [2,3,5], if the remainder is==0\n",
    "                num = num/f  \n",
    "                print(num)\n",
    "        return num==1  "
   ]
  },
  {
   "cell_type": "code",
   "execution_count": null,
   "metadata": {},
   "outputs": [],
   "source": [
    "Write a program to find the n-th ugly number.\n",
    "Ugly numbers are positive numbers whose prime factors only include 2, 3, 5. \n",
    "\n",
    "Example:\n",
    "Input: n = 10\n",
    "Output: 12\n",
    "Explanation: 1, 2, 3, 4, 5, 6, 8, 9, 10, 12 is the sequence of the first 10 ugly numbers.\n",
    "Note:  \n",
    "\n",
    "1 is typically treated as an ugly number.\n",
    "n does not exceed 1690."
   ]
  },
  {
   "cell_type": "markdown",
   "metadata": {},
   "source": [
    "Method 1: First and the most naive solution is for each prime factor, get n top ugly number for each prime factor, and merge them in a set, sort the list and the n-th ugly number will be the n-th number in the list.\n",
    "The complexity will be O(nlgn) and space complexity is O(n)"
   ]
  },
  {
   "cell_type": "code",
   "execution_count": null,
   "metadata": {},
   "outputs": [],
   "source": [
    "# 2 function to find the n-th ugly number\n",
    "import math\n",
    "def nthUglyNumber(n: int):\n",
    "        nums=[]\n",
    "#         for i in range(int(math.log(1690,5))):\n",
    "#             for j in range(int(math.log(1690,3))):\n",
    "#                 for k in range(int(math.log(1690,2))):\n",
    "#                     nums.append((5**i)*(3**j)*(2**k))\n",
    "                    \n",
    "        for i in range(0,14):\n",
    "            for j in range(0,20):\n",
    "                for k in range(0,30):\n",
    "                    nums.append((5**i)*(3**j)*(2**k))\n",
    "        nums.sort()\n",
    "        print(len(nums))\n",
    "#         print(nums)\n",
    "        return nums[n-1]\n",
    "num = 1690       \n",
    "print(\"the\", num ,\"-th (smallest) ugly number is\",nthUglyNumber(num))"
   ]
  },
  {
   "cell_type": "code",
   "execution_count": null,
   "metadata": {},
   "outputs": [],
   "source": [
    "def nthUglyNumber_method2(n: int):\n",
    "        nums=[1]\n",
    "        idx_2, idx_3, idx_5 = 0, 0, 0\n",
    "        for i in range(n-1):\n",
    "            next2=nums[idx_2]*2\n",
    "            next3=nums[idx_3]*3\n",
    "            next5=nums[idx_5]*5\n",
    "            next=min(next2,next3,next5)\n",
    "            nums.append(next)\n",
    "            if next==next2:\n",
    "                idx_2+=1\n",
    "            if next ==next3:\n",
    "                idx_3+=1\n",
    "            if next==next5:\n",
    "                idx_5+=1\n",
    "        return nums[-1]\n",
    "num = 1690\n",
    "print( \" the \",num,\"-th ugly number is\", nthUglyNumber_method2(num))"
   ]
  },
  {
   "cell_type": "markdown",
   "metadata": {},
   "source": [
    "# DAY 4: \n",
    "## Binary Representation of positive integers\n",
    "## Hamming distance\n"
   ]
  },
  {
   "cell_type": "markdown",
   "metadata": {},
   "source": [
    "Problem1: Binary Representation of positive integers\n",
    "\n",
    "Binary representations of positive can be understood in the same way as their decimal counterparts. For example\n",
    "\n",
    "8610 = 1*64 + 0*32 + 1*16 + 0*8 + 1*4 + 1*2 + 0*1\n",
    "or\n",
    "8610 = 1* 26 + 0* 25 + 1* 24 + 0* 23 + 1* 22 + 1* 21 + 0* 20\n",
    "or\n",
    "8610 = 1010110 2\n",
    "\n",
    "The subscript 2 denotes a binary number. Each digit in a binary number is called a bit. The number 1010110 is represented by 7 bits. Any number can be broken down this way, by finding all of the powers of 2 that add up to the number in question (in this case 26, 24, 22 and 21). You can see this is exactly analagous to the decimal deconstruction of the number 125 that was done earlier. Likewise we can make a similar set of observations:"
   ]
  },
  {
   "cell_type": "markdown",
   "metadata": {},
   "source": [
    "Problem2: Calculate the Hamming distance between two integers is the number of positions at which the corresponding bits are different.\n",
    "\n",
    "Given two integers x and y, calculate the Hamming distance.Note: 0 ≤ x, y < 2^31.\n",
    "Example:\n",
    "Input: x = 1, y = 4\n",
    "Output: 2\n",
    "Explanation:\n",
    "1   (0 0 0 1)\n",
    "4   (0 1 0 0)\n",
    "       ↑   ↑\n",
    "The above arrows point to positions where the corresponding bits are different."
   ]
  },
  {
   "cell_type": "code",
   "execution_count": null,
   "metadata": {},
   "outputs": [],
   "source": [
    "def hammingDistance(x: int, y: int): #  int\n",
    "    \"\"\"\n",
    "    type: int, note 0 ≤ x, y < 2^31.\n",
    "    rtype : int\n",
    "    \"\"\"\n",
    "    x_bits = '{0:031b}'.format(x)\n",
    "    y_bits = '{0:031b}'.format(y)\n",
    "#     print(x, \"binary representation is\", x_bits, \"type of x_bits \",type(x_bits) )\n",
    "#     print(y, \"binary representation is\", y_bits)\n",
    "    count = 0\n",
    "    hammingdistance = 0\n",
    "    while count < len(x_bits):\n",
    "        if x_bits[count] != y_bits[count]:\n",
    "            hammingdistance = hammingdistance+1\n",
    "        count = count + 1\n",
    "    return hammingdistance\n",
    "\n",
    "# Just to explain the parts of the formatting string: '{0:031b}'.format(x)\n",
    "\n",
    "# {} places a variable into a string\n",
    "# 0 takes the variable at argument position 0\n",
    "# : adds formatting options for this variable (otherwise it would represent decimal 6)\n",
    "# 08 formats the number to eight digits zero-padded on the left\n",
    "# b converts the number to its binary representation    "
   ]
  },
  {
   "cell_type": "markdown",
   "metadata": {},
   "source": [
    "# Day 6:\n",
    "## Calculate  Island Perimeter"
   ]
  },
  {
   "cell_type": "markdown",
   "metadata": {},
   "source": [
    "You are given a map in form of a two-dimensional integer grid where 1 represents land and 0 represents water.\n",
    "Grid cells are connected horizontally/vertically (not diagonally). The grid is completely surrounded by water, and there is exactly one island (i.e., one or more connected land cells).\n",
    "\n",
    "The island doesn't have \"lakes\" (water inside that isn't connected to the water around the island). One cell is a square with side length 1. The grid is rectangular, width and height don't exceed 100. Determine the perimeter of the island.\n",
    "Example:\n",
    "Input:\n",
    "[[0,1,0,0],\n",
    " [1,1,1,0],\n",
    " [0,1,0,0],\n",
    " [1,1,0,0]]\n",
    "\n",
    "Output: 16"
   ]
  },
  {
   "cell_type": "code",
   "execution_count": null,
   "metadata": {},
   "outputs": [],
   "source": [
    "def islandPerimeter(grid):\n",
    "    \"\"\"\n",
    "    type: List[List[int]]\n",
    "    rtypr: int\n",
    "    \"\"\""
   ]
  },
  {
   "cell_type": "code",
   "execution_count": 9,
   "metadata": {},
   "outputs": [
    {
     "name": "stdout",
     "output_type": "stream",
     "text": [
      "[[0, 1, 0, 0], [1, 1, 1, 0], [0, 1, 0, 0]]\n",
      "height of grid is  3\n",
      "width of grid is  4\n"
     ]
    },
    {
     "ename": "AttributeError",
     "evalue": "'list' object has no attribute 'size'",
     "output_type": "error",
     "traceback": [
      "\u001b[0;31m---------------------------------------------------------------------------\u001b[0m",
      "\u001b[0;31mAttributeError\u001b[0m                            Traceback (most recent call last)",
      "\u001b[0;32m<ipython-input-9-a16567db4d62>\u001b[0m in \u001b[0;36m<module>\u001b[0;34m\u001b[0m\n\u001b[1;32m     11\u001b[0m \u001b[0mprint\u001b[0m\u001b[0;34m(\u001b[0m\u001b[0;34m\"height of grid is \"\u001b[0m\u001b[0;34m,\u001b[0m\u001b[0mlen\u001b[0m\u001b[0;34m(\u001b[0m\u001b[0mgrid\u001b[0m\u001b[0;34m)\u001b[0m\u001b[0;34m)\u001b[0m\u001b[0;34m\u001b[0m\u001b[0;34m\u001b[0m\u001b[0m\n\u001b[1;32m     12\u001b[0m \u001b[0mprint\u001b[0m\u001b[0;34m(\u001b[0m\u001b[0;34m\"width of grid is \"\u001b[0m\u001b[0;34m,\u001b[0m\u001b[0mlen\u001b[0m\u001b[0;34m(\u001b[0m\u001b[0mgrid\u001b[0m\u001b[0;34m[\u001b[0m\u001b[0;36m0\u001b[0m\u001b[0;34m]\u001b[0m\u001b[0;34m)\u001b[0m\u001b[0;34m)\u001b[0m\u001b[0;34m\u001b[0m\u001b[0;34m\u001b[0m\u001b[0m\n\u001b[0;32m---> 13\u001b[0;31m \u001b[0mgrid\u001b[0m\u001b[0;34m.\u001b[0m\u001b[0msize\u001b[0m\u001b[0;34m(\u001b[0m\u001b[0;34m)\u001b[0m\u001b[0;34m\u001b[0m\u001b[0;34m\u001b[0m\u001b[0m\n\u001b[0m",
      "\u001b[0;31mAttributeError\u001b[0m: 'list' object has no attribute 'size'"
     ]
    }
   ],
   "source": [
    "#grid = [] with size max = 100x100\n",
    "grid = [[0,1,0,0],\n",
    "        [1,1,1,0],\n",
    "        [0,1,0,0]]\n",
    "\n",
    "i = int(0)\n",
    "# for i in range(width):\n",
    "#     grid.append(\"_\")\n",
    "# for i in range(height):\n",
    "print(grid)\n",
    "print(\"height of grid is \",len(grid))\n",
    "print(\"width of grid is \",len(grid[0]))\n",
    "\n"
   ]
  },
  {
   "cell_type": "code",
   "execution_count": null,
   "metadata": {},
   "outputs": [],
   "source": []
  },
  {
   "cell_type": "code",
   "execution_count": null,
   "metadata": {},
   "outputs": [],
   "source": []
  }
 ],
 "metadata": {
  "kernelspec": {
   "display_name": "Python 3",
   "language": "python",
   "name": "python3"
  },
  "language_info": {
   "codemirror_mode": {
    "name": "ipython",
    "version": 3
   },
   "file_extension": ".py",
   "mimetype": "text/x-python",
   "name": "python",
   "nbconvert_exporter": "python",
   "pygments_lexer": "ipython3",
   "version": "3.7.3"
  }
 },
 "nbformat": 4,
 "nbformat_minor": 2
}
